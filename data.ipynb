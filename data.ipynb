{
 "cells": [
  {
   "cell_type": "code",
   "execution_count": null,
   "metadata": {},
   "outputs": [],
   "source": [
    "import os\n",
    "import json\n",
    "import random\n",
    "from copy import deepcopy\n",
    "import shutil\n",
    "from fastai.vision import *\n",
    "from pathlib import Path"
   ]
  },
  {
   "cell_type": "code",
   "execution_count": null,
   "metadata": {},
   "outputs": [],
   "source": [
    "class Breed:\n",
    "    def __repr__(self):\n",
    "        return f\"{self.name} - ({len(self.files)})\"\n",
    "    \n",
    "    def __init__(self, name, rank, files):\n",
    "        self.name = name\n",
    "        self.rank = -1\n",
    "        self.files = files"
   ]
  },
  {
   "cell_type": "code",
   "execution_count": null,
   "metadata": {},
   "outputs": [],
   "source": [
    "#folder setup\n",
    "if os.path.exists(\"./data/images/unprocessed\"): shutil.rmtree(\"./data/images/unprocessed\")\n",
    "if os.path.exists(\"./data/images/processed\"): shutil.rmtree(\"./data/images/processed\")"
   ]
  },
  {
   "cell_type": "code",
   "execution_count": null,
   "metadata": {},
   "outputs": [],
   "source": [
    "pathUnprocessed = Path(\"./data/images/unprocessed\")\n",
    "pathUnprocessedOxford = Path(\"./data/images/unprocessed/oxford\")\n",
    "pathUnprocessedStanford = Path(\"./data/images/unprocessed/stanford\")\n",
    "pathUnprocessedGoogle = Path(\"./data/images/unprocessed/google\")\n",
    "pathGoogleImagesSource = Path(\"./data/google-images-source\")\n",
    "pathGoogleImagesSourceCleaned = Path(\"./data/google-images-source-cleaned\")\n",
    "pathUnprocessedCC0 = Path(\"./data/images/unprocessed/cc0\")\n",
    "pathCC0ImagesSource = Path(\"./data/cc0-images-source\")\n",
    "pathProcessed = Path(\"./data/images/processed\")"
   ]
  },
  {
   "cell_type": "code",
   "execution_count": null,
   "metadata": {},
   "outputs": [],
   "source": [
    "os.makedirs(pathUnprocessed)\n",
    "os.makedirs(pathUnprocessedOxford)\n",
    "os.makedirs(pathUnprocessedStanford)\n",
    "os.makedirs(pathProcessed)\n",
    "os.makedirs(pathUnprocessedGoogle)\n",
    "os.makedirs(pathGoogleImagesSourceCleaned)\n",
    "os.makedirs(pathUnprocessedCC0)"
   ]
  },
  {
   "cell_type": "code",
   "execution_count": null,
   "metadata": {},
   "outputs": [],
   "source": [
    "#download\n",
    "pathArchiveOxford = download_data(\"https://www.robots.ox.ac.uk/~vgg/data/pets/data/images.tar.gz\", pathUnprocessedOxford/\"oxford.tar.gz\", ext = \"\")\n",
    "pathArchiveStanford = download_data(\"http://vision.stanford.edu/aditya86/ImageNetDogs/images.tar\", pathUnprocessedStanford/\"stanford.tar\", ext = \"\")\n",
    "pathArchiveOxford, pathArchiveStanford"
   ]
  },
  {
   "cell_type": "code",
   "execution_count": null,
   "metadata": {},
   "outputs": [],
   "source": [
    "remove = {}\n",
    "remove[\"bichons-frise\"] = [44, 45, 50, 78]\n",
    "remove[\"american-curl\"] = [46, 193]\n",
    "remove[\"american-shorthair\"] = [45, 89, 94]\n",
    "remove[\"australian-cattle-dog\"] = [77, 78, 97]\n",
    "remove[\"black-mouth-cur\"] = [81, 88]\n",
    "remove[\"brussels-griffon\"] = [39]\n",
    "remove[\"burmese\"] = [90]\n",
    "remove[\"chinese-crested\"] = [57]\n",
    "remove[\"chinese-shar-pei\"] = [90]\n",
    "remove[\"cornish-rex\"] = [62, 66]\n",
    "remove[\"coton-de-tulear\"] = [49, 87]\n",
    "remove[\"dalmation\"] = [53, 70, 75, 76, 79, 98]\n",
    "remove[\"devon-rex\"] = [0, 56, 75]\n",
    "remove[\"dogues-de-bordeaux\"] = [41, 62, 64, 72, 91]\n",
    "remove[\"exotic-shorthair\"] = [22, 41, 47, 49, 69, 78, 86, 92, 93, 95]\n",
    "remove[\"lagotti-romagnoli\"] = [10, 20, 29, 34, 39, 43, 45, 51, 57, 58, 73, 74, 77, 78, 87, 97, 98]\n",
    "remove[\"mastiff\"] = [42, 45, 57]\n",
    "remove[\"norwegian-forest-cat\"] = [48]\n",
    "remove[\"nova-scotia-duck-tolling-retriever\"] = [68, 71, 83, 85]\n",
    "remove[\"portuguese-water-dog\"] = [40, 57]\n",
    "remove[\"ragamuffin\"] = [29, 31, 45, 60, 66, 75, 81, 99]\n",
    "remove[\"rat-terrier\"] = [42, ]\n",
    "remove[\"scottish-fold\"] = [41, 69, ]\n",
    "remove[\"siberian\"] = [50, 62, 104, 144, 156, 158, 177]"
   ]
  },
  {
   "cell_type": "code",
   "execution_count": null,
   "metadata": {},
   "outputs": [],
   "source": [
    "# google\n",
    "for file in pathGoogleImagesSource.ls():\n",
    "    filePath = file\n",
    "    fileName = os.path.basename(file)\n",
    "    breedName = fileName.replace(\".txt\", \"\")\n",
    "\n",
    "    if breedName in remove:\n",
    "        filePath = pathGoogleImagesSourceCleaned/fileName\n",
    "        with open(file) as f:\n",
    "            lines = f.readlines()\n",
    "            items = [ l for (i, l) in enumerate(lines) if i not in remove[breedName] ]\n",
    "            with open(filePath, \"w\") as w:\n",
    "                w.writelines(items)\n",
    "                \n",
    "    print(breedName)\n",
    "    download_images(filePath, pathUnprocessedGoogle/breedName)\n",
    "    verify_images(pathUnprocessedGoogle/breedName)   "
   ]
  },
  {
   "cell_type": "code",
   "execution_count": null,
   "metadata": {},
   "outputs": [],
   "source": [
    "# CC0\n",
    "for file in pathCC0ImagesSource.ls():\n",
    "    name = os.path.basename(file).replace(\".txt\", \"\")\n",
    "    print(name)\n",
    "    download_images(file, pathUnprocessedCC0/name)\n",
    "    verify_images(pathUnprocessedCC0/name)   "
   ]
  },
  {
   "cell_type": "code",
   "execution_count": null,
   "metadata": {},
   "outputs": [],
   "source": [
    "#extract\n",
    "def extract(inputFile, outputPath):\n",
    "    tar = tarfile.open(inputFile)\n",
    "    tar.extractall(outputPath)\n",
    "    tar.close()\n",
    "\n",
    "print(\"extraction started\")\n",
    "extract(pathArchiveOxford, pathUnprocessedOxford)\n",
    "print(\"oxford complete\")\n",
    "extract(pathArchiveStanford, pathUnprocessedStanford)\n",
    "print(\"stanford complete\")"
   ]
  },
  {
   "cell_type": "code",
   "execution_count": null,
   "metadata": {},
   "outputs": [],
   "source": [
    "#catalog\n",
    "data = {}\n",
    "\n",
    "# oxford\n",
    "for file in (pathUnprocessedOxford/\"images\").ls():\n",
    "    name = \"-\".join(os.path.basename(file).replace(\".jpg\", \"\").lower().split(\"_\",)[:-1])\n",
    "    if name not in data: data[name] = []\n",
    "    data[name].append(file)"
   ]
  },
  {
   "cell_type": "code",
   "execution_count": null,
   "metadata": {},
   "outputs": [],
   "source": [
    "# stanford\n",
    "for file in (pathUnprocessedStanford/\"Images\").ls():\n",
    "    name = \"-\".join(str(file).split(\"-\")[1:]).replace(\"_\", \"-\").lower()\n",
    "    if name not in data: data[name] = []\n",
    "    data[name].extend(file.ls())"
   ]
  },
  {
   "cell_type": "code",
   "execution_count": null,
   "metadata": {},
   "outputs": [],
   "source": [
    "# google\n",
    "for folder in pathUnprocessedGoogle.ls():\n",
    "    name = os.path.basename(folder)\n",
    "    if name not in data: data[name] = []\n",
    "    data[name].extend(folder.ls())"
   ]
  },
  {
   "cell_type": "code",
   "execution_count": null,
   "metadata": {},
   "outputs": [],
   "source": [
    "# cc0\n",
    "for folder in pathUnprocessedCC0.ls():\n",
    "    name = os.path.basename(folder)\n",
    "    if name not in data: data[name] = []\n",
    "    data[name].extend(folder.ls())"
   ]
  },
  {
   "cell_type": "code",
   "execution_count": null,
   "metadata": {},
   "outputs": [],
   "source": [
    "with open(\"data/dog-rankings-source.json\") as f: \n",
    "    j = json.load(f)\n",
    "    dogRankings = { item[\"rank\"] : item[\"name\"] for item in j}\n",
    "    \n",
    "rankedDogs = [ dogRankings[rank] for rank in sorted(dogRankings.keys())]\n",
    "rankedDogs[:5]\n",
    "\n",
    "for name in rankedDogs: \n",
    "    if name not in data: data[name] = []"
   ]
  },
  {
   "cell_type": "code",
   "execution_count": null,
   "metadata": {},
   "outputs": [],
   "source": [
    "with open(\"data/cat-rankings-source.json\") as f: \n",
    "    j = json.load(f)\n",
    "    catRankings = { item[\"rank\"] : item[\"name\"] for item in j}\n",
    "    \n",
    "rankedCats = [ catRankings[rank] for rank in sorted(catRankings.keys())]\n",
    "rankedCats[:5]\n",
    "\n",
    "for name in rankedCats: \n",
    "    if name not in data: data[name] = []"
   ]
  },
  {
   "cell_type": "code",
   "execution_count": null,
   "metadata": {},
   "outputs": [],
   "source": [
    "#clean duplicates\n",
    "cleanedData = deepcopy(data)\n",
    "cleanedData[\"basset-hound\"].extend(cleanedData.pop(\"basset\"))\n",
    "cleanedData[\"german-short-haired-pointer\"].extend(cleanedData.pop(\"german-shorthaired\"))\n",
    "cleanedData[\"leonberger\"].extend(cleanedData.pop(\"leonberg\"))\n",
    "#cleanedData[\"samoyed\"].extend(cleanedData.pop(\"samyed\")) \n",
    "cleanedData[\"japanese-chin\"].extend(cleanedData.pop(\"japanese-spaniel\"))\n",
    "cleanedData[\"scottish-terrier\"].extend(cleanedData.pop(\"scotch-terrier\"))\n",
    "cleanedData[\"wheaten-terrier\"].extend(cleanedData.pop(\"soft-coated-wheaten-terrier\"))\n",
    "cleanedData[\"staffordshire-bull-terrier\"].extend(cleanedData.pop(\"staffordshire-bullterrier\"))\n",
    "cleanedData[\"chow-chow\"].extend(cleanedData.pop(\"chow\"))\n",
    "cleanedData[\"doberman-pinscher\"].extend(cleanedData.pop(\"doberman\"))\n",
    "cleanedData[\"pembroke-welsh-corgi\"].extend(cleanedData.pop(\"pembroke\"))"
   ]
  },
  {
   "cell_type": "code",
   "execution_count": null,
   "metadata": {},
   "outputs": [],
   "source": [
    "#sort dogs\n",
    "dogs = []\n",
    "for i, n in enumerate(rankedDogs):\n",
    "    if n in cleanedData: dogs.append(Breed(n, i, cleanedData[n]))\n",
    "    else: dogs.append(Breed(n, i, []))\n",
    "dogs[:5]"
   ]
  },
  {
   "cell_type": "code",
   "execution_count": null,
   "metadata": {},
   "outputs": [],
   "source": [
    "#sort cats\n",
    "cats = []\n",
    "for i, n in enumerate(rankedCats):\n",
    "    if n in cleanedData: cats.append(Breed(n, i, cleanedData[n]))\n",
    "    else: cats.append(Breed(n, i, []))\n",
    "cats[:5]"
   ]
  },
  {
   "cell_type": "code",
   "execution_count": null,
   "metadata": {},
   "outputs": [],
   "source": [
    "#top dogs\n",
    "topDogs = dogs[:100]\n",
    "topDogs.extend([x for x in dogs if x.name == \"black-mouth-cur\"])"
   ]
  },
  {
   "cell_type": "code",
   "execution_count": null,
   "metadata": {},
   "outputs": [],
   "source": [
    "topDogsMissingData = { i:x for i, x in enumerate(topDogs) if len(x.files) == 0}\n",
    "topDogsMissingData, len(topDogsMissingData)"
   ]
  },
  {
   "cell_type": "code",
   "execution_count": null,
   "metadata": {},
   "outputs": [],
   "source": [
    "#top cats\n",
    "topCats = [ breed for breed in cats if len(breed.files) > 0 ]\n",
    "topCats"
   ]
  },
  {
   "cell_type": "code",
   "execution_count": null,
   "metadata": {},
   "outputs": [],
   "source": [
    "if os.path.exists(pathProcessed): shutil.rmtree(pathProcessed)\n",
    "\n",
    "topBreeds = topDogs + topCats\n",
    "for d in topBreeds:\n",
    "    breedDir = pathProcessed/d.name\n",
    "    os.makedirs(breedDir)\n",
    "    \n",
    "    for file in d.files: \n",
    "        shutil.copy(file, breedDir)\n",
    "    print(f\"copied {d.name}\")"
   ]
  },
  {
   "cell_type": "code",
   "execution_count": null,
   "metadata": {},
   "outputs": [],
   "source": [
    "for d in topBreeds:\n",
    "    if len(d.files) < 100:\n",
    "        print(d)"
   ]
  },
  {
   "cell_type": "code",
   "execution_count": null,
   "metadata": {},
   "outputs": [],
   "source": []
  }
 ],
 "metadata": {
  "kernelspec": {
   "display_name": "Python 3",
   "language": "python",
   "name": "python3"
  },
  "language_info": {
   "codemirror_mode": {
    "name": "ipython",
    "version": 3
   },
   "file_extension": ".py",
   "mimetype": "text/x-python",
   "name": "python",
   "nbconvert_exporter": "python",
   "pygments_lexer": "ipython3",
   "version": "3.7.4"
  }
 },
 "nbformat": 4,
 "nbformat_minor": 4
}
