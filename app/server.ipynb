{
 "cells": [
  {
   "cell_type": "code",
   "execution_count": null,
   "metadata": {},
   "outputs": [],
   "source": [
    "#export\n",
    "import aiohttp\n",
    "import asyncio\n",
    "import uvicorn\n",
    "from base64 import b64decode\n",
    "from fastai import *\n",
    "from fastai.vision import *\n",
    "from io import BytesIO\n",
    "from starlette.applications import Starlette\n",
    "from starlette.middleware.cors import CORSMiddleware\n",
    "from starlette.responses import HTMLResponse, JSONResponse, FileResponse\n",
    "from starlette.staticfiles import StaticFiles"
   ]
  },
  {
   "cell_type": "code",
   "execution_count": null,
   "metadata": {},
   "outputs": [],
   "source": [
    "#export\n",
    "path = Path(__file__).parent\n",
    "export_file_name = 'model.pkl'\n",
    "learn = load_learner(path, export_file_name)"
   ]
  },
  {
   "cell_type": "code",
   "execution_count": null,
   "metadata": {},
   "outputs": [],
   "source": [
    "#export\n",
    "app = Starlette()\n",
    "app.add_middleware(CORSMiddleware, allow_origins=['*'], allow_headers=['X-Requested-With', 'Content-Type'])\n",
    "app.mount('/assets', StaticFiles(directory='app/assets'))"
   ]
  },
  {
   "cell_type": "code",
   "execution_count": null,
   "metadata": {},
   "outputs": [],
   "source": [
    "#export\n",
    "def Predict(imageList, count):\n",
    "    results = []\n",
    "    for img in imageList:\n",
    "        _,_,outputs = learn.predict(img)\n",
    "        percentages = [float(i) for i in outputs]\n",
    "        results.append(percentages)\n",
    "    \n",
    "    averages = np.mean(results, axis=0)\n",
    "    percentages = [ int(i * 100) for i in averages]\n",
    "    values = sorted(set(zip(learn.data.classes, percentages)), key = lambda d: d[1], reverse=True)[:count]\n",
    "    #total = sum(int(v) for n,v in values)\n",
    "    #values.append((\"other\", float(100 - total)))\n",
    "    return values"
   ]
  },
  {
   "cell_type": "code",
   "execution_count": null,
   "metadata": {},
   "outputs": [],
   "source": [
    "#export\n",
    "@app.route('/')\n",
    "async def homepage(request):\n",
    "    file = path / 'assets' / 'views' / 'index.html'\n",
    "    return HTMLResponse(file.open().read())"
   ]
  },
  {
   "cell_type": "code",
   "execution_count": null,
   "metadata": {},
   "outputs": [],
   "source": [
    "#export\n",
    "@app.route('/sw.js')\n",
    "async def homepage(request):\n",
    "    file = path / 'assets' / 'js' / 'sw.js'\n",
    "    return FileResponse(str(file))"
   ]
  },
  {
   "cell_type": "code",
   "execution_count": null,
   "metadata": {},
   "outputs": [],
   "source": [
    "#export\n",
    "@app.route('/analyze', methods=['POST'])\n",
    "async def analyze(request):\n",
    "    content = await request.json()\n",
    "    images = []\n",
    "    for data_uri in content[:9]:\n",
    "        header, encoded = data_uri.split(\",\", 1)\n",
    "        data = b64decode(encoded)\n",
    "        i = open_image(BytesIO(data))\n",
    "        images.append(i)\n",
    "    \n",
    "    results = Predict(images, 3)\n",
    "    return JSONResponse(results)"
   ]
  },
  {
   "cell_type": "code",
   "execution_count": null,
   "metadata": {},
   "outputs": [],
   "source": [
    "#export\n",
    "if __name__ == '__main__':\n",
    "    if 'serve' in sys.argv:\n",
    "        uvicorn.run(app=app, host='0.0.0.0', port=5000, log_level=\"info\")"
   ]
  }
 ],
 "metadata": {
  "kernelspec": {
   "display_name": "Python 3",
   "language": "python",
   "name": "python3"
  },
  "language_info": {
   "codemirror_mode": {
    "name": "ipython",
    "version": 3
   },
   "file_extension": ".py",
   "mimetype": "text/x-python",
   "name": "python",
   "nbconvert_exporter": "python",
   "pygments_lexer": "ipython3",
   "version": "3.7.4"
  }
 },
 "nbformat": 4,
 "nbformat_minor": 4
}
